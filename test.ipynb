{
 "cells": [
  {
   "cell_type": "code",
   "execution_count": null,
   "id": "3ffbefbd-7f2d-45ed-b222-7b428cee0b4f",
   "metadata": {},
   "outputs": [],
   "source": [
    "%load_ext autoreload\n",
    "%autoreload 2"
   ]
  },
  {
   "cell_type": "markdown",
   "id": "d434cd08-ef3c-43a6-b7fc-816828b8b07d",
   "metadata": {},
   "source": [
    "# tag=parameters "
   ]
  },
  {
   "cell_type": "code",
   "execution_count": null,
   "id": "bcf73c21-6e1a-4acf-a18c-ced5cceabb93",
   "metadata": {
    "tags": [
     "parameters"
    ]
   },
   "outputs": [],
   "source": [
    "parameters = {\n",
    "    'a': 1\n",
    "}\n",
    "env_params = {\n",
    "    \"cdlc_stage\": \"dev\"\n",
    "}"
   ]
  },
  {
   "cell_type": "markdown",
   "id": "66569b37-f5f9-4396-a4de-a843c3b01efa",
   "metadata": {},
   "source": [
    "# tag=interface  \n",
    "It is taged cell. Runer can finde this cell and execute code of the cell. "
   ]
  },
  {
   "cell_type": "code",
   "execution_count": null,
   "id": "469e3ea9-71fa-41c5-bd3e-ff2f270a5d4f",
   "metadata": {},
   "outputs": [],
   "source": [
    "import sys\n",
    "if '../' not in sys.path:\n",
    "    sys.path.append('../')"
   ]
  },
  {
   "cell_type": "code",
   "execution_count": null,
   "id": "9b98d3c5-68a8-4394-a33d-0d531f583569",
   "metadata": {
    "tags": [
     "interface"
    ]
   },
   "outputs": [],
   "source": [
    "from dsml4s8e import notebook_interface\n",
    "if not 'nb_full_name' in parameters:\n",
    "    import ipynbname\n",
    "    parameters['nb_full_name'] = ipynbname.path()\n",
    "nbi = notebook_interface.NotebookInterface(resource_names = [],\n",
    "                                           artefact_names=['data1', 'data2'],\n",
    "                                           nb_full_name=parameters['nb_full_name']\n",
    "                                          )"
   ]
  },
  {
   "cell_type": "code",
   "execution_count": null,
   "id": "d3ffbc0b-155d-4358-a514-31b8be458d6f",
   "metadata": {},
   "outputs": [],
   "source": [
    "parameters['nb_full_name']"
   ]
  },
  {
   "cell_type": "code",
   "execution_count": null,
   "id": "73c5bf9b-211b-408a-856b-50897c731c4a",
   "metadata": {},
   "outputs": [],
   "source": [
    "print(nbi)"
   ]
  },
  {
   "cell_type": "markdown",
   "id": "943e7045-5dda-4d17-aeef-9dabeefd9db8",
   "metadata": {},
   "source": [
    "# Component \n",
    "Coupling of notebook interface, parameters and component enviroment into run_info object to provides run leval entities to the **body** of notebook.\n",
    "Creating of immutable run id and unique urls for saving run results."
   ]
  },
  {
   "cell_type": "code",
   "execution_count": null,
   "id": "a6138ef6-b335-424a-8de1-31efff35234f",
   "metadata": {},
   "outputs": [],
   "source": [
    "from dsml4s8e.component import ComponentEnv\n",
    "from dsml4s8e.local_storage import LoacalStorage, write_pandas_df\n",
    "# from dsml4s8e.local_stor\n",
    "# cmp = Component(local_stor)\n",
    "comp_env = ComponentEnv(env_params=env_params, storage=LoacalStorage('/home/jovyan/data'))\n",
    "run_info = comp_env.get_nb_run_info(nbi, parameters)"
   ]
  },
  {
   "cell_type": "code",
   "execution_count": null,
   "id": "9459d259-f476-412a-9319-cb5602de68b0",
   "metadata": {},
   "outputs": [],
   "source": [
    "from dataclasses import asdict\n",
    "asdict(run_info)"
   ]
  },
  {
   "cell_type": "code",
   "execution_count": null,
   "id": "98e43981-fb82-4964-b514-025e58f1c331",
   "metadata": {},
   "outputs": [],
   "source": [
    "run_info.output.pipeline_example.data_load.test.data1"
   ]
  },
  {
   "cell_type": "code",
   "execution_count": null,
   "id": "65f6ec0f-aad9-43cb-ae00-a379999d9cfd",
   "metadata": {},
   "outputs": [],
   "source": [
    "#!!! catalog_validation(storage using) print component catalog urls\n",
    "# storage abstration, Component use abstract storage!\n",
    "# ? storage lib\n",
    "# .urls_validation()"
   ]
  },
  {
   "cell_type": "markdown",
   "id": "0c2e8058-5c9b-42ed-afec-c83fc11f3780",
   "metadata": {},
   "source": [
    "# Body  \n",
    "In the body urls and parameters must be immutable.  \n",
    "And all external interactions must be implemented via component interface."
   ]
  },
  {
   "cell_type": "code",
   "execution_count": null,
   "id": "fed019b4-07a4-40cc-becb-45cda9116675",
   "metadata": {},
   "outputs": [],
   "source": [
    "run_info.output.pipeline_example.data_load.test.data2"
   ]
  },
  {
   "cell_type": "code",
   "execution_count": null,
   "id": "e349b5c3-75d9-471a-82d0-d3058924cb10",
   "metadata": {},
   "outputs": [],
   "source": [
    "import pandas as pd\n",
    "def read_pandas_df(url: str) -> pd.DataFrame:\n",
    "    return pd.read_csv(path.join(url, Path(url).name), compression='zip')"
   ]
  },
  {
   "cell_type": "code",
   "execution_count": null,
   "id": "d0bcdafa-d9d8-4075-b9c0-5838b76fafa2",
   "metadata": {},
   "outputs": [],
   "source": [
    "df_data1 = pd.DataFrame({'a':[1,1,1]})"
   ]
  },
  {
   "cell_type": "code",
   "execution_count": null,
   "id": "0096e939-140e-4d3c-a438-82333f795946",
   "metadata": {},
   "outputs": [],
   "source": [
    "df_data1"
   ]
  },
  {
   "cell_type": "code",
   "execution_count": null,
   "id": "4120d9d6-fdda-4f39-b53f-bcb81dfa5e13",
   "metadata": {},
   "outputs": [],
   "source": [
    "write_pandas_df(df_data1, run_info.output.pipeline_example.data_load.test.data1)"
   ]
  },
  {
   "cell_type": "code",
   "execution_count": null,
   "id": "f69a41d1-d562-4027-b7a0-59e07c151c60",
   "metadata": {},
   "outputs": [],
   "source": [
    "! ls -la $run_info.output.pipeline_example.data_load.test.data1"
   ]
  },
  {
   "cell_type": "code",
   "execution_count": null,
   "id": "af471635-6182-48fd-a045-5a8fa196a6e6",
   "metadata": {
    "tags": [
     "results"
    ]
   },
   "outputs": [],
   "source": [
    "print(comp_env.to_json())"
   ]
  }
 ],
 "metadata": {
  "kernelspec": {
   "display_name": "Python 3 (ipykernel)",
   "language": "python",
   "name": "python3"
  },
  "language_info": {
   "codemirror_mode": {
    "name": "ipython",
    "version": 3
   },
   "file_extension": ".py",
   "mimetype": "text/x-python",
   "name": "python",
   "nbconvert_exporter": "python",
   "pygments_lexer": "ipython3",
   "version": "3.10.6"
  },
  "vscode": {
   "interpreter": {
    "hash": "d4d1e4263499bec80672ea0156c357c1ee493ec2b1c70f0acce89fc37c4a6abe"
   }
  }
 },
 "nbformat": 4,
 "nbformat_minor": 5
}
